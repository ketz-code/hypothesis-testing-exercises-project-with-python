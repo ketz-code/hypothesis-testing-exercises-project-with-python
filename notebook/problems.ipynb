{
 "cells": [
  {
   "cell_type": "markdown",
   "id": "d9d036c6",
   "metadata": {},
   "source": [
    "# Hypothesis testing problems"
   ]
  },
  {
   "cell_type": "markdown",
   "id": "d157c4db",
   "metadata": {},
   "source": [
    "## Exercise 1\n",
    "\n",
    "You are a nutritionist researching two different types of diets to see if there is a significant difference in weight loss after one month. You choose two random groups of people; one group follows the first diet, and the other follows the second. At the end of the month, you record the weight loss (in kg) for each person:\n",
    "\n",
    "| Diet 1 | Diet 2 |\n",
    "|:-------|:-------|\n",
    "| 2.0 | 3.0 |\n",
    "| 2.5 | 3.2 |\n",
    "| 3.0 | 3.1 |\n",
    "| 2.8 | 2.9 |\n",
    "| 2.3 | 2.8 |\n",
    "| 2.7 | 3.0 |\n",
    "| 2.5 | 3.2 |\n",
    "\n",
    "With these data, it seeks to answer the following question: Is there a significant difference in average weight loss between people who followed the first diet and those who followed the second diet?\n",
    "\n",
    "To draw conclusions, follow the points below:\n",
    "\n",
    "- State the hypothesis: null and alternative hypothesis.\n",
    "- Perform the test to test the hypothesis. You can use a Student's t-test.\n",
    "- Analyze the conclusions."
   ]
  },
  {
   "cell_type": "markdown",
   "id": "e17720f4",
   "metadata": {},
   "source": [
    "### State the hypothesis: null and alternative hypothesis."
   ]
  },
  {
   "cell_type": "markdown",
   "id": "3110bb76",
   "metadata": {},
   "source": [
    "### Define the hypothesis\n",
    "\n",
    "Null Hypothesis (H0): \n",
    "- The average weight loss expressed in kilograms (kg) experienced by people on both diets is not significantly different.\n",
    "\n",
    "Alternative Hypothesis (H1):\n",
    "- The average weight loss expressed in kilograms (kg) experienced by people on both diets is significantly different. "
   ]
  },
  {
   "cell_type": "markdown",
   "id": "26a5b46c",
   "metadata": {},
   "source": [
    "### Choosing the significance level\n",
    "- The significance level is α=0.05"
   ]
  },
  {
   "cell_type": "markdown",
   "id": "a7a7883b",
   "metadata": {},
   "source": [
    "### Perform the test to test the hypothesis: Student's t-test."
   ]
  },
  {
   "cell_type": "code",
   "execution_count": 1,
   "id": "8e0f3cf0",
   "metadata": {},
   "outputs": [
    {
     "name": "stdout",
     "output_type": "stream",
     "text": [
      "t-statistic: -3.5383407969933938\n",
      "p-value: 0.004083270191713912\n"
     ]
    }
   ],
   "source": [
    "# TODO\n",
    "import pandas as pd\n",
    "import numpy as np\n",
    "import scipy.stats as stats\n",
    "\n",
    "diet1_weight_loss = [2.0, 2.5, 3.0, 2.8, 2.3, 2.7, 2.5]\n",
    "diet2_weight_loss = [3.0, 3.2, 3.1, 2.9, 2.8, 3.0, 3.2]\n",
    "\n",
    "t_statistic, p_value = stats.ttest_ind(diet1_weight_loss, diet2_weight_loss) # Perform the t-test\n",
    "\n",
    "print(\"t-statistic:\", t_statistic)\n",
    "print(\"p-value:\", p_value)\n",
    "\n"
   ]
  },
  {
   "cell_type": "code",
   "execution_count": 3,
   "id": "32d7e9c4",
   "metadata": {},
   "outputs": [
    {
     "name": "stdout",
     "output_type": "stream",
     "text": [
      "The null hypothesis (H0) is reject\n"
     ]
    }
   ],
   "source": [
    "alpha = 0.05\n",
    "if p_value <= alpha:\n",
    "    print(f'The null hypothesis (H0) is reject')\n",
    "else:\n",
    "    print(f'The null hypothesis (H0) is not reject')"
   ]
  },
  {
   "cell_type": "markdown",
   "id": "0537a6ab",
   "metadata": {},
   "source": [
    "### Conclusion\n",
    "\n",
    "The null hypotesis(H0) is reject, this means there is statistically evidence to suggest a significant difference in average weight loss between the two diets."
   ]
  },
  {
   "cell_type": "markdown",
   "id": "f432e18e",
   "metadata": {},
   "source": [
    "## ANOVA\n",
    "\n",
    "**ANOVA** (*Analysis of Variance*) is a statistical technique used to compare the measures of two or more groups. The idea behind ANOVA is to decompose the total variability in the data into two components: between-group variability and within-group variability:\n",
    "\n",
    "- **Between-group variability**: This variability refers to the differences between the group means. If this variability is considerably larger than the within-group variability, it could be an indication that at least one of the group means is different.\n",
    "- **Within-group variability**: This variability refers to the dispersion of the data within each group. If all groups have similar variability, then any noticeable difference in group means could be considered significant.\n",
    "\n",
    "Hypotheses in ANOVA typically include:\n",
    "\n",
    "- **Null hypothesis** ($H₀$): The means of all groups are equal.\n",
    "- **Alternative hypothesis** ($H₁$): At least one of the group means is different.\n",
    "\n",
    "If the ANOVA test result is significant (e.g., a p-value less than a threshold such as 0.05), this suggests that at least one group mean is different."
   ]
  },
  {
   "cell_type": "markdown",
   "id": "fc5f3721",
   "metadata": {},
   "source": [
    "## Exercise 2\n",
    "\n",
    "A farmer decides to test three different types of fertilizers to determine if one is superior in terms of corn production. The farmer plants corn on 15 identical plots and uses all three fertilizers (5 plots for each type). At the end of the season, he measures the corn yield (in kg) of each plot, with the following result:\n",
    "\n",
    "| Fertilizer 1 | Fertilizer 2 | Fertilizer 3 |\n",
    "|:-------------|:-------------|:-------------|\n",
    "| 20 | 22 | 24 |\n",
    "| 21 | 21 | 23 |\n",
    "| 20 | 23 | 22 |\n",
    "| 19 | 22 | 23 |\n",
    "| 20 | 21 | 24 |\n",
    "\n",
    "With this data, he seeks to answer the following question: Is there a significant difference in average corn yield between the three types of fertilizers?\n",
    "\n",
    "To help you, follow the points below:\n",
    "\n",
    "- State the hypothesis: null and alternative hypothesis.\n",
    "- Perform the ANOVA test.\n",
    "- Analyze the conclusions.\n",
    "- If one fertilizer is better than another, how can we know it?"
   ]
  },
  {
   "cell_type": "markdown",
   "id": "259b301b",
   "metadata": {},
   "source": [
    "### State the hypothesis: null and alternative hypothesis."
   ]
  },
  {
   "cell_type": "markdown",
   "id": "298b6204",
   "metadata": {},
   "source": [
    "### Define the hypothesis\n",
    "\n",
    "Null Hypothesis (H0): \n",
    "- There is no significant difference in average corn yield after used any of the three types of fertilizers.\n",
    "\n",
    "Alternative Hypothesis (H1):\n",
    "- There is a significant difference in average corn yield after used at least two of the fertilizer types."
   ]
  },
  {
   "cell_type": "markdown",
   "id": "dd9180eb",
   "metadata": {},
   "source": [
    "### Choosing the significance level\n",
    "- The significance level is α=0.05"
   ]
  },
  {
   "cell_type": "markdown",
   "id": "48224c9d",
   "metadata": {},
   "source": [
    "### Perform the ANOVA test."
   ]
  },
  {
   "cell_type": "code",
   "execution_count": 4,
   "id": "5cd77167",
   "metadata": {},
   "outputs": [
    {
     "name": "stdout",
     "output_type": "stream",
     "text": [
      "F-statistic: 20.315789473684188\n",
      "P-value: 0.00014047824793190472\n"
     ]
    }
   ],
   "source": [
    "fertilizer1_yield = [20, 21, 20, 19, 20]\n",
    "fertilizer2_yield = [22, 21, 23, 22, 21]\n",
    "fertilizer3_yield = [24, 23, 22, 23, 24]\n",
    "\n",
    "f_statistic, p_value = stats.f_oneway(fertilizer1_yield, fertilizer2_yield, fertilizer3_yield)\n",
    "\n",
    "print(\"F-statistic:\", f_statistic)\n",
    "print(\"P-value:\", p_value)"
   ]
  },
  {
   "cell_type": "code",
   "execution_count": 5,
   "id": "4f8fec99",
   "metadata": {},
   "outputs": [
    {
     "name": "stdout",
     "output_type": "stream",
     "text": [
      "The null hypothesis (H0) is reject\n"
     ]
    }
   ],
   "source": [
    "alpha = 0.05\n",
    "if p_value <= alpha:\n",
    "    print(f'The null hypothesis (H0) is reject')\n",
    "else:\n",
    "    print(f'The null hypothesis (H0) is not reject')"
   ]
  },
  {
   "cell_type": "markdown",
   "id": "c1e63251",
   "metadata": {},
   "source": [
    "### Conclusion\n",
    "\n",
    "The null hypotesis(H0) is reject, this means there is statistically evidence to suggest a significant difference in average corn yield after used at least two of the fertilizer types."
   ]
  },
  {
   "cell_type": "markdown",
   "id": "e9911b72",
   "metadata": {},
   "source": [
    "### If one fertilizer is better than another, how can we know it?"
   ]
  },
  {
   "cell_type": "markdown",
   "id": "9f52d65d",
   "metadata": {},
   "source": [
    "- Post-hoc tests can be used to determine which fertilizer is better than another.\n",
    "- In Python, Tukey's HSD test can be performed to obtain that result using the statsmodels library."
   ]
  },
  {
   "cell_type": "code",
   "execution_count": 7,
   "id": "eac43827",
   "metadata": {},
   "outputs": [
    {
     "name": "stdout",
     "output_type": "stream",
     "text": [
      "     Multiple Comparison of Means - Tukey HSD, FWER=0.05      \n",
      "==============================================================\n",
      "   group1       group2    meandiff p-adj  lower  upper  reject\n",
      "--------------------------------------------------------------\n",
      "Fertilizer 1 Fertilizer 2      1.8 0.0099 0.4572 3.1428   True\n",
      "Fertilizer 1 Fertilizer 3      3.2 0.0001 1.8572 4.5428   True\n",
      "Fertilizer 2 Fertilizer 3      1.4 0.0409 0.0572 2.7428   True\n",
      "--------------------------------------------------------------\n"
     ]
    }
   ],
   "source": [
    "import statsmodels.stats.multicomp as mc\n",
    "\n",
    "# Combine the data into a single array and create a grouping variable\n",
    "data = fertilizer1_yield + fertilizer2_yield + fertilizer3_yield\n",
    "group_labels = ['Fertilizer 1'] * len(fertilizer1_yield) + ['Fertilizer 2'] * len(fertilizer2_yield) + ['Fertilizer 3'] * len(fertilizer3_yield)\n",
    "\n",
    "# Perform Tukey's HSD post-hoc test\n",
    "df = pd.DataFrame({'Yield': data, 'Fertilizer': group_labels})\n",
    "tukey_result = mc.pairwise_tukeyhsd(df['Yield'], df['Fertilizer'], alpha=0.05)  # Common alpha level\n",
    "print(tukey_result)"
   ]
  },
  {
   "cell_type": "markdown",
   "id": "dc12e6da",
   "metadata": {},
   "source": [
    "### Conclusion\n",
    "\n",
    "Based on the analysis and starting from the fact that all fertilizers have significant differences among them in average corn yield in the average performance and that in the comparison between pairs fertilizer 3 always surpassed its peer, we can conclude that the best fertilizer is 3"
   ]
  },
  {
   "cell_type": "code",
   "execution_count": 2,
   "id": "eecad0ca",
   "metadata": {},
   "outputs": [],
   "source": [
    "# TODO"
   ]
  }
 ],
 "metadata": {
  "kernelspec": {
   "display_name": ".venv",
   "language": "python",
   "name": "python3"
  },
  "language_info": {
   "codemirror_mode": {
    "name": "ipython",
    "version": 3
   },
   "file_extension": ".py",
   "mimetype": "text/x-python",
   "name": "python",
   "nbconvert_exporter": "python",
   "pygments_lexer": "ipython3",
   "version": "3.11.4"
  }
 },
 "nbformat": 4,
 "nbformat_minor": 5
}
